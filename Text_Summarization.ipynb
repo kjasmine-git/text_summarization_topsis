{
  "nbformat": 4,
  "nbformat_minor": 0,
  "metadata": {
    "colab": {
      "provenance": [],
      "authorship_tag": "ABX9TyNfKwfM9XHL7aEkSTYc86ap",
      "include_colab_link": true
    },
    "kernelspec": {
      "name": "python3",
      "display_name": "Python 3"
    },
    "language_info": {
      "name": "python"
    }
  },
  "cells": [
    {
      "cell_type": "markdown",
      "metadata": {
        "id": "view-in-github",
        "colab_type": "text"
      },
      "source": [
        "<a href=\"https://colab.research.google.com/github/kjasmine-git/text_summarization_topsis/blob/main/Text_Summarization.ipynb\" target=\"_parent\"><img src=\"https://colab.research.google.com/assets/colab-badge.svg\" alt=\"Open In Colab\"/></a>"
      ]
    },
    {
      "cell_type": "code",
      "execution_count": null,
      "metadata": {
        "colab": {
          "base_uri": "https://localhost:8080/"
        },
        "id": "0CsBc8Qc9jdd",
        "outputId": "a0121ee0-f340-47f7-d3b2-9c0a7406f117",
        "collapsed": true
      },
      "outputs": [
        {
          "output_type": "stream",
          "name": "stdout",
          "text": [
            "Collecting datasets\n",
            "  Downloading datasets-3.2.0-py3-none-any.whl.metadata (20 kB)\n",
            "Requirement already satisfied: filelock in /usr/local/lib/python3.11/dist-packages (from datasets) (3.17.0)\n",
            "Requirement already satisfied: numpy>=1.17 in /usr/local/lib/python3.11/dist-packages (from datasets) (1.26.4)\n",
            "Requirement already satisfied: pyarrow>=15.0.0 in /usr/local/lib/python3.11/dist-packages (from datasets) (17.0.0)\n",
            "Collecting dill<0.3.9,>=0.3.0 (from datasets)\n",
            "  Downloading dill-0.3.8-py3-none-any.whl.metadata (10 kB)\n",
            "Requirement already satisfied: pandas in /usr/local/lib/python3.11/dist-packages (from datasets) (2.2.2)\n",
            "Requirement already satisfied: requests>=2.32.2 in /usr/local/lib/python3.11/dist-packages (from datasets) (2.32.3)\n",
            "Requirement already satisfied: tqdm>=4.66.3 in /usr/local/lib/python3.11/dist-packages (from datasets) (4.67.1)\n",
            "Collecting xxhash (from datasets)\n",
            "  Downloading xxhash-3.5.0-cp311-cp311-manylinux_2_17_x86_64.manylinux2014_x86_64.whl.metadata (12 kB)\n",
            "Collecting multiprocess<0.70.17 (from datasets)\n",
            "  Downloading multiprocess-0.70.16-py311-none-any.whl.metadata (7.2 kB)\n",
            "Collecting fsspec<=2024.9.0,>=2023.1.0 (from fsspec[http]<=2024.9.0,>=2023.1.0->datasets)\n",
            "  Downloading fsspec-2024.9.0-py3-none-any.whl.metadata (11 kB)\n",
            "Requirement already satisfied: aiohttp in /usr/local/lib/python3.11/dist-packages (from datasets) (3.11.11)\n",
            "Requirement already satisfied: huggingface-hub>=0.23.0 in /usr/local/lib/python3.11/dist-packages (from datasets) (0.27.1)\n",
            "Requirement already satisfied: packaging in /usr/local/lib/python3.11/dist-packages (from datasets) (24.2)\n",
            "Requirement already satisfied: pyyaml>=5.1 in /usr/local/lib/python3.11/dist-packages (from datasets) (6.0.2)\n",
            "Requirement already satisfied: aiohappyeyeballs>=2.3.0 in /usr/local/lib/python3.11/dist-packages (from aiohttp->datasets) (2.4.4)\n",
            "Requirement already satisfied: aiosignal>=1.1.2 in /usr/local/lib/python3.11/dist-packages (from aiohttp->datasets) (1.3.2)\n",
            "Requirement already satisfied: attrs>=17.3.0 in /usr/local/lib/python3.11/dist-packages (from aiohttp->datasets) (25.1.0)\n",
            "Requirement already satisfied: frozenlist>=1.1.1 in /usr/local/lib/python3.11/dist-packages (from aiohttp->datasets) (1.5.0)\n",
            "Requirement already satisfied: multidict<7.0,>=4.5 in /usr/local/lib/python3.11/dist-packages (from aiohttp->datasets) (6.1.0)\n",
            "Requirement already satisfied: propcache>=0.2.0 in /usr/local/lib/python3.11/dist-packages (from aiohttp->datasets) (0.2.1)\n",
            "Requirement already satisfied: yarl<2.0,>=1.17.0 in /usr/local/lib/python3.11/dist-packages (from aiohttp->datasets) (1.18.3)\n",
            "Requirement already satisfied: typing-extensions>=3.7.4.3 in /usr/local/lib/python3.11/dist-packages (from huggingface-hub>=0.23.0->datasets) (4.12.2)\n",
            "Requirement already satisfied: charset-normalizer<4,>=2 in /usr/local/lib/python3.11/dist-packages (from requests>=2.32.2->datasets) (3.4.1)\n",
            "Requirement already satisfied: idna<4,>=2.5 in /usr/local/lib/python3.11/dist-packages (from requests>=2.32.2->datasets) (3.10)\n",
            "Requirement already satisfied: urllib3<3,>=1.21.1 in /usr/local/lib/python3.11/dist-packages (from requests>=2.32.2->datasets) (2.3.0)\n",
            "Requirement already satisfied: certifi>=2017.4.17 in /usr/local/lib/python3.11/dist-packages (from requests>=2.32.2->datasets) (2024.12.14)\n",
            "Requirement already satisfied: python-dateutil>=2.8.2 in /usr/local/lib/python3.11/dist-packages (from pandas->datasets) (2.8.2)\n",
            "Requirement already satisfied: pytz>=2020.1 in /usr/local/lib/python3.11/dist-packages (from pandas->datasets) (2024.2)\n",
            "Requirement already satisfied: tzdata>=2022.7 in /usr/local/lib/python3.11/dist-packages (from pandas->datasets) (2025.1)\n",
            "Requirement already satisfied: six>=1.5 in /usr/local/lib/python3.11/dist-packages (from python-dateutil>=2.8.2->pandas->datasets) (1.17.0)\n",
            "Downloading datasets-3.2.0-py3-none-any.whl (480 kB)\n",
            "\u001b[2K   \u001b[90m━━━━━━━━━━━━━━━━━━━━━━━━━━━━━━━━━━━━━━━━\u001b[0m \u001b[32m480.6/480.6 kB\u001b[0m \u001b[31m16.0 MB/s\u001b[0m eta \u001b[36m0:00:00\u001b[0m\n",
            "\u001b[?25hDownloading dill-0.3.8-py3-none-any.whl (116 kB)\n",
            "\u001b[2K   \u001b[90m━━━━━━━━━━━━━━━━━━━━━━━━━━━━━━━━━━━━━━━━\u001b[0m \u001b[32m116.3/116.3 kB\u001b[0m \u001b[31m8.1 MB/s\u001b[0m eta \u001b[36m0:00:00\u001b[0m\n",
            "\u001b[?25hDownloading fsspec-2024.9.0-py3-none-any.whl (179 kB)\n",
            "\u001b[2K   \u001b[90m━━━━━━━━━━━━━━━━━━━━━━━━━━━━━━━━━━━━━━━━\u001b[0m \u001b[32m179.3/179.3 kB\u001b[0m \u001b[31m13.6 MB/s\u001b[0m eta \u001b[36m0:00:00\u001b[0m\n",
            "\u001b[?25hDownloading multiprocess-0.70.16-py311-none-any.whl (143 kB)\n",
            "\u001b[2K   \u001b[90m━━━━━━━━━━━━━━━━━━━━━━━━━━━━━━━━━━━━━━━━\u001b[0m \u001b[32m143.5/143.5 kB\u001b[0m \u001b[31m11.1 MB/s\u001b[0m eta \u001b[36m0:00:00\u001b[0m\n",
            "\u001b[?25hDownloading xxhash-3.5.0-cp311-cp311-manylinux_2_17_x86_64.manylinux2014_x86_64.whl (194 kB)\n",
            "\u001b[2K   \u001b[90m━━━━━━━━━━━━━━━━━━━━━━━━━━━━━━━━━━━━━━━━\u001b[0m \u001b[32m194.8/194.8 kB\u001b[0m \u001b[31m15.7 MB/s\u001b[0m eta \u001b[36m0:00:00\u001b[0m\n",
            "\u001b[?25hInstalling collected packages: xxhash, fsspec, dill, multiprocess, datasets\n",
            "  Attempting uninstall: fsspec\n",
            "    Found existing installation: fsspec 2024.10.0\n",
            "    Uninstalling fsspec-2024.10.0:\n",
            "      Successfully uninstalled fsspec-2024.10.0\n",
            "\u001b[31mERROR: pip's dependency resolver does not currently take into account all the packages that are installed. This behaviour is the source of the following dependency conflicts.\n",
            "gcsfs 2024.10.0 requires fsspec==2024.10.0, but you have fsspec 2024.9.0 which is incompatible.\n",
            "torch 2.5.1+cu124 requires nvidia-cublas-cu12==12.4.5.8; platform_system == \"Linux\" and platform_machine == \"x86_64\", but you have nvidia-cublas-cu12 12.5.3.2 which is incompatible.\n",
            "torch 2.5.1+cu124 requires nvidia-cuda-cupti-cu12==12.4.127; platform_system == \"Linux\" and platform_machine == \"x86_64\", but you have nvidia-cuda-cupti-cu12 12.5.82 which is incompatible.\n",
            "torch 2.5.1+cu124 requires nvidia-cuda-nvrtc-cu12==12.4.127; platform_system == \"Linux\" and platform_machine == \"x86_64\", but you have nvidia-cuda-nvrtc-cu12 12.5.82 which is incompatible.\n",
            "torch 2.5.1+cu124 requires nvidia-cuda-runtime-cu12==12.4.127; platform_system == \"Linux\" and platform_machine == \"x86_64\", but you have nvidia-cuda-runtime-cu12 12.5.82 which is incompatible.\n",
            "torch 2.5.1+cu124 requires nvidia-cudnn-cu12==9.1.0.70; platform_system == \"Linux\" and platform_machine == \"x86_64\", but you have nvidia-cudnn-cu12 9.3.0.75 which is incompatible.\n",
            "torch 2.5.1+cu124 requires nvidia-cufft-cu12==11.2.1.3; platform_system == \"Linux\" and platform_machine == \"x86_64\", but you have nvidia-cufft-cu12 11.2.3.61 which is incompatible.\n",
            "torch 2.5.1+cu124 requires nvidia-curand-cu12==10.3.5.147; platform_system == \"Linux\" and platform_machine == \"x86_64\", but you have nvidia-curand-cu12 10.3.6.82 which is incompatible.\n",
            "torch 2.5.1+cu124 requires nvidia-cusolver-cu12==11.6.1.9; platform_system == \"Linux\" and platform_machine == \"x86_64\", but you have nvidia-cusolver-cu12 11.6.3.83 which is incompatible.\n",
            "torch 2.5.1+cu124 requires nvidia-cusparse-cu12==12.3.1.170; platform_system == \"Linux\" and platform_machine == \"x86_64\", but you have nvidia-cusparse-cu12 12.5.1.3 which is incompatible.\n",
            "torch 2.5.1+cu124 requires nvidia-nvjitlink-cu12==12.4.127; platform_system == \"Linux\" and platform_machine == \"x86_64\", but you have nvidia-nvjitlink-cu12 12.5.82 which is incompatible.\u001b[0m\u001b[31m\n",
            "\u001b[0mSuccessfully installed datasets-3.2.0 dill-0.3.8 fsspec-2024.9.0 multiprocess-0.70.16 xxhash-3.5.0\n"
          ]
        }
      ],
      "source": [
        "!pip install datasets"
      ]
    },
    {
      "cell_type": "code",
      "source": [
        "import numpy as np\n",
        "import pandas as pd\n",
        "import nltk\n",
        "from transformers import pipeline\n",
        "from datasets import load_dataset"
      ],
      "metadata": {
        "id": "zmb06WpxAhOn"
      },
      "execution_count": null,
      "outputs": []
    },
    {
      "cell_type": "code",
      "source": [
        "# Load a Dataset from Hugging Face\n",
        "dataset = load_dataset(\"cnn_dailymail\", \"3.0.0\", split=\"test[:1000]\")\n",
        "\n",
        "# Define Pre-Trained Summarization Models\n",
        "summarization_models = {\n",
        "    \"M1\": \"facebook/bart-large-cnn\",\n",
        "    \"M2\":  \"t5-small\",\n",
        "    \"M3\": \"Falconsai/text_summarization\",\n",
        "    \"M4\": \"sshleifer/distilbart-cnn-12-6\"\n",
        "}"
      ],
      "metadata": {
        "id": "cx2dOGVUAkLo"
      },
      "execution_count": null,
      "outputs": []
    },
    {
      "cell_type": "code",
      "source": [
        "# Function to Summarize Text\n",
        "def summarize_text(model_name, text):\n",
        "    summarizer = pipeline(\"summarization\", model=summarization_models[model_name])\n",
        "    summary = summarizer(text, max_length=150, min_length=50, do_sample=False, truncation=True)\n",
        "    return summary[0][\"summary_text\"]"
      ],
      "metadata": {
        "id": "UilHNaVnBbJF"
      },
      "execution_count": null,
      "outputs": []
    },
    {
      "cell_type": "code",
      "source": [
        "!pip install rouge"
      ],
      "metadata": {
        "colab": {
          "base_uri": "https://localhost:8080/"
        },
        "id": "CqRdkVEPCH1R",
        "outputId": "f3c33d69-7414-4266-b38c-d2e583300641"
      },
      "execution_count": null,
      "outputs": [
        {
          "output_type": "stream",
          "name": "stdout",
          "text": [
            "Collecting rouge\n",
            "  Downloading rouge-1.0.1-py3-none-any.whl.metadata (4.1 kB)\n",
            "Requirement already satisfied: six in /usr/local/lib/python3.11/dist-packages (from rouge) (1.17.0)\n",
            "Downloading rouge-1.0.1-py3-none-any.whl (13 kB)\n",
            "Installing collected packages: rouge\n",
            "Successfully installed rouge-1.0.1\n"
          ]
        }
      ]
    },
    {
      "cell_type": "code",
      "source": [
        "from rouge import Rouge\n",
        "rouge = Rouge()\n",
        "# Function to Evaluate Summary\n",
        "def evaluate_summary(original_text, summary_text):\n",
        "    result = rouge.get_scores(hyps=[summary_text], refs=[original_text])[0]\n",
        "    return {\n",
        "        \"P1\": result[\"rouge-1\"][\"f\"],  # ROUGE-1\n",
        "        \"P2\": result[\"rouge-2\"][\"f\"],  # ROUGE-2\n",
        "        \"P3\": result[\"rouge-l\"][\"f\"],  # ROUGE-L\n",
        "        \"P4\": len(summary_text) / len(original_text)  # Compression Ratio\n",
        "    }"
      ],
      "metadata": {
        "id": "3qWv8dDyBv4L"
      },
      "execution_count": null,
      "outputs": []
    },
    {
      "cell_type": "code",
      "source": [
        "def apply_topsis(models, data):\n",
        "    data = np.array(data)  # Convert list of lists to NumPy array\n",
        "    weights = np.array([0.4, 0.3, 0.2, 0.1])  # Importance of each criterion\n",
        "    impacts = np.array([\"+\", \"+\", \"+\", \"-\"])  # Higher is better for ROUGE; lower for Compression\n",
        "\n",
        "    # Normalize the decision matrix\n",
        "    norm_data = data / np.sqrt((data ** 2).sum(axis=0))\n",
        "\n",
        "    # Calculate weighted normalized decision matrix\n",
        "    weighted_data = norm_data * weights\n",
        "\n",
        "    # Identify ideal best and worst solutions\n",
        "    ideal_best = np.where(impacts == \"+\", weighted_data.max(axis=0), weighted_data.min(axis=0))\n",
        "    ideal_worst = np.where(impacts == \"+\", weighted_data.min(axis=0), weighted_data.max(axis=0))\n",
        "    # Calculate distances from ideal best and worst\n",
        "    distance_best = np.sqrt(((weighted_data - ideal_best) ** 2).sum(axis=1))\n",
        "    distance_worst = np.sqrt(((weighted_data - ideal_worst) ** 2).sum(axis=1))\n",
        "\n",
        "    # Calculate TOPSIS scores\n",
        "    topsis_scores = distance_worst / (distance_best + distance_worst)\n",
        "\n",
        "    # Rank the models\n",
        "    ranks = topsis_scores.argsort()[::-1] + 1  # Higher score = better rank\n",
        "\n",
        "    return topsis_scores, ranks\n"
      ],
      "metadata": {
        "id": "uGAlgNW6Cs0E"
      },
      "execution_count": null,
      "outputs": []
    },
    {
      "cell_type": "code",
      "source": [
        "results = []\n",
        "\n",
        "# Process 5 random texts\n",
        "for i in range(5):\n",
        "    sample = dataset[i]\n",
        "    text = sample[\"article\"]\n",
        "    reference_summary = sample[\"highlights\"]\n",
        "    evaluation_data = []\n",
        "    model_names = []\n",
        "\n",
        "    for model in summarization_models.keys():\n",
        "        summary = summarize_text(model, text)\n",
        "        metrics = evaluate_summary(reference_summary, summary)\n",
        "        evaluation_data.append(list(metrics.values()))\n",
        "        model_names.append(model)\n",
        "\n",
        "    topsis_scores,ranks = apply_topsis(model_names, evaluation_data)\n",
        "\n",
        "    for j, model in enumerate(model_names):\n",
        "        results.append([f\"T{i+1}\", model, *evaluation_data[j], topsis_scores[j], ranks[j]])\n",
        "\n",
        "# Convert results to DataFrame\n",
        "df_results = pd.DataFrame(results, columns=[\"Text\", \"Model\", \"P1\", \"P2\", \"P3\", \"P4\", \"Topsis Score\", \"Rank\"])\n",
        "\n",
        "# Print results\n",
        "print(df_results)\n",
        "\n"
      ],
      "metadata": {
        "colab": {
          "base_uri": "https://localhost:8080/"
        },
        "id": "whAOmRswDduS",
        "outputId": "0029feb3-c59b-4768-a6a7-1a0088dc054c"
      },
      "execution_count": null,
      "outputs": [
        {
          "output_type": "stream",
          "name": "stderr",
          "text": [
            "Device set to use cpu\n",
            "Asking to truncate to max_length but no maximum length is provided and the model has no predefined maximum length. Default to no truncation.\n",
            "Device set to use cpu\n",
            "Device set to use cpu\n",
            "Device set to use cpu\n",
            "Device set to use cpu\n",
            "Asking to truncate to max_length but no maximum length is provided and the model has no predefined maximum length. Default to no truncation.\n",
            "Device set to use cpu\n",
            "Device set to use cpu\n",
            "Device set to use cpu\n",
            "Device set to use cpu\n",
            "Asking to truncate to max_length but no maximum length is provided and the model has no predefined maximum length. Default to no truncation.\n",
            "Device set to use cpu\n",
            "Device set to use cpu\n",
            "Device set to use cpu\n",
            "Device set to use cpu\n",
            "Asking to truncate to max_length but no maximum length is provided and the model has no predefined maximum length. Default to no truncation.\n",
            "Device set to use cpu\n",
            "Device set to use cpu\n",
            "Device set to use cpu\n",
            "Device set to use cpu\n",
            "Asking to truncate to max_length but no maximum length is provided and the model has no predefined maximum length. Default to no truncation.\n",
            "Device set to use cpu\n",
            "Device set to use cpu\n",
            "Device set to use cpu\n"
          ]
        },
        {
          "output_type": "stream",
          "name": "stdout",
          "text": [
            "   Text Model        P1        P2        P3        P4  Topsis Score  Rank\n",
            "0    T1    M1  0.416667  0.289157  0.416667  1.476395      0.777348     4\n",
            "1    T1    M2  0.281250  0.189189  0.281250  1.330472      0.161072     1\n",
            "2    T1    M3  0.260870  0.151899  0.260870  1.296137      0.039464     2\n",
            "3    T1    M4  0.468750  0.315789  0.468750  1.334764      0.991277     3\n",
            "4    T2    M1  0.375000  0.253165  0.375000  1.028037      0.951519     1\n",
            "5    T2    M2  0.317460  0.055556  0.317460  0.789720      0.135911     4\n",
            "6    T2    M3  0.301370  0.046512  0.273973  1.158879      0.038396     2\n",
            "7    T2    M4  0.368421  0.147368  0.315789  1.345794      0.496903     3\n",
            "8    T3    M1  0.338028  0.150000  0.338028  1.311927      0.979291     4\n",
            "9    T3    M2  0.084507  0.026667  0.084507  1.220183      0.013459     1\n",
            "10   T3    M3  0.208955  0.084507  0.208955  1.169725      0.483237     3\n",
            "11   T3    M4  0.338028  0.150000  0.338028  1.307339      0.979946     2\n",
            "12   T4    M1  0.305556  0.121951  0.277778  0.952756      0.282965     2\n",
            "13   T4    M2  0.361111  0.120482  0.305556  0.992126      0.943369     3\n",
            "14   T4    M3  0.342105  0.116279  0.289474  1.090551      0.655903     1\n",
            "15   T4    M4  0.293333  0.114943  0.266667  1.066929      0.024963     4\n",
            "16   T5    M1  0.526316  0.266667  0.526316  1.100000      0.928653     1\n",
            "17   T5    M2  0.514286  0.227848  0.485714  0.896154      0.826792     2\n",
            "18   T5    M3  0.323529  0.102564  0.323529  0.807692      0.166011     4\n",
            "19   T5    M4  0.410256  0.067416  0.333333  1.153846      0.179781     3\n"
          ]
        }
      ]
    },
    {
      "cell_type": "code",
      "source": [
        "df_results.to_csv(\"summarization_results.csv\", index=False)"
      ],
      "metadata": {
        "id": "XRG65QYcnMzi"
      },
      "execution_count": null,
      "outputs": []
    },
    {
      "cell_type": "code",
      "source": [
        "import matplotlib.pyplot as plt\n",
        "import seaborn as sns\n",
        "import pandas as pd\n",
        "sns.set(style=\"whitegrid\")\n",
        "fig, axes = plt.subplots(1, 5, figsize=(20, 5), sharey=True)\n",
        "texts = df_results[\"Text\"].unique()\n",
        "for i, text in enumerate(texts):\n",
        "    ax = axes[i]\n",
        "    df_subset = df_results[df_results[\"Text\"] == text]\n",
        "    sns.barplot(x=\"Model\", y=\"Topsis Score\", data=df_subset, palette=\"viridis\", ax=ax, hue=\"Rank\", dodge=False)\n",
        "    ax.set_title(f\"TOPSIS Ranking for {text}\")\n",
        "    ax.set_xlabel(\"Model\")\n",
        "    ax.set_ylabel(\"TOPSIS Score\" if i == 0 else \"\")\n",
        "    ax.legend(title=\"Rank\")\n",
        "\n",
        "# Show the plot\n",
        "plt.tight_layout()\n",
        "plt.show()"
      ],
      "metadata": {
        "colab": {
          "base_uri": "https://localhost:8080/",
          "height": 362
        },
        "id": "eQGYyLhungoN",
        "outputId": "fb4062d5-0664-4bb5-abd1-31141abb6085"
      },
      "execution_count": null,
      "outputs": [
        {
          "output_type": "display_data",
          "data": {
            "text/plain": [
              "<Figure size 2000x500 with 5 Axes>"
            ],
            "image/png": "[encoded data removed]"
          },
          "metadata": {}
        }
      ]
    }
  ]
}